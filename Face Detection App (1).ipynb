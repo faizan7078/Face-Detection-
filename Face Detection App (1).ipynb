{
 "cells": [
  {
   "cell_type": "code",
   "execution_count": 2,
   "metadata": {},
   "outputs": [],
   "source": [
    "import cv2\n",
    "\n",
    "# Load trained cascade classifier\n",
    "face_cascade = cv2.CascadeClassifier('haarcascade_frontalface_default.xml')\n",
    "\n",
    "# Read the given image\n",
    "color_image = cv2.imread('girl.png')\n",
    "\n",
    "# Convert color image into grayscale\n",
    "gray_image = cv2.cvtColor(color_image, cv2.COLOR_BGR2GRAY)\n",
    "\n",
    "# Detect faces ROI\n",
    "#Syntax: Classifier.detectMultiScale(input image, Scale Factor , Min Neighbors)\n",
    "faces = face_cascade.detectMultiScale(gray_image, 1.1, 5) \n",
    "\n",
    "# Draw rectangle around the faces\n",
    "for (x, y, w, h) in faces:\n",
    "    cv2.rectangle(color_image, (x, y), (x + w, y + h), (0, 0, 255), 4)\n",
    "    \n",
    "# Show image\n",
    "cv2.imshow('Image', color_image)\n",
    "\n",
    "#wait to close window\n",
    "cv2.waitKey()\n",
    "\n",
    "#close all windows\n",
    "cv2.destroyAllWindows()"
   ]
  },
  {
   "cell_type": "code",
   "execution_count": null,
   "metadata": {},
   "outputs": [],
   "source": []
  }
 ],
 "metadata": {
  "kernelspec": {
   "display_name": "Python 3",
   "language": "python",
   "name": "python3"
  },
  "language_info": {
   "codemirror_mode": {
    "name": "ipython",
    "version": 3
   },
   "file_extension": ".py",
   "mimetype": "text/x-python",
   "name": "python",
   "nbconvert_exporter": "python",
   "pygments_lexer": "ipython3",
   "version": "3.8.3"
  }
 },
 "nbformat": 4,
 "nbformat_minor": 4
}
